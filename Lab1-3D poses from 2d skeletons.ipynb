{
  "nbformat": 4,
  "nbformat_minor": 0,
  "metadata": {
    "colab": {
      "name": "main.ipynb",
      "provenance": [],
      "collapsed_sections": []
    },
    "kernelspec": {
      "name": "python3",
      "display_name": "Python 3"
    },
    "accelerator": "GPU"
  },
  "cells": [
    {
      "cell_type": "markdown",
      "metadata": {
        "id": "W-jD-XYIJazz",
        "colab_type": "text"
      },
      "source": [
        "# **Predicting 3D poses from 2D skeletons**\n",
        "\n",
        "In this tutorial, we are going to train a neural network to take an input 2D skeleton and predict its 3D pose. An schematic view of the framework is presented in the image below.\n",
        "![alt text](https://www.cse.iitb.ac.in/PS-Dataset/martinez_overview.png)\n",
        "\n",
        "The network consists only of FC layers. It uses 2 blocks with residual connection in series. Apart from the input and the output all intermediate layers has 1024 nodes."
      ]
    },
    {
      "cell_type": "code",
      "metadata": {
        "id": "ic1D3FqLeDpI",
        "colab_type": "code",
        "outputId": "f74ba727-bf45-4f72-e1fd-a4b39dde0deb",
        "colab": {
          "base_uri": "https://localhost:8080/",
          "height": 1000
        }
      },
      "source": [
        "!git clone https://github.com/rmitra/DLWorkshop-lab1\n",
        "%cd DLWorkshop-lab1/\n",
        "!sh getData.sh"
      ],
      "execution_count": 0,
      "outputs": [
        {
          "output_type": "stream",
          "text": [
            "Cloning into 'DLWorkshop-lab1'...\n",
            "remote: Enumerating objects: 27, done.\u001b[K\n",
            "remote: Counting objects: 100% (27/27), done.\u001b[K\n",
            "remote: Compressing objects: 100% (26/26), done.\u001b[K\n",
            "remote: Total 27 (delta 13), reused 0 (delta 0), pack-reused 0\u001b[K\n",
            "Unpacking objects: 100% (27/27), done.\n",
            "/content/DLWorkshop-lab1\n",
            "--2020-03-04 09:10:24--  https://www.dropbox.com/s/b20gdo2ywkbx87b/dataset_test_gt.pickle\n",
            "Resolving www.dropbox.com (www.dropbox.com)... 162.125.8.1, 2620:100:601b:1::a27d:801\n",
            "Connecting to www.dropbox.com (www.dropbox.com)|162.125.8.1|:443... connected.\n",
            "HTTP request sent, awaiting response... 301 Moved Permanently\n",
            "Location: /s/raw/b20gdo2ywkbx87b/dataset_test_gt.pickle [following]\n",
            "--2020-03-04 09:10:24--  https://www.dropbox.com/s/raw/b20gdo2ywkbx87b/dataset_test_gt.pickle\n",
            "Reusing existing connection to www.dropbox.com:443.\n",
            "HTTP request sent, awaiting response... 302 Found\n",
            "Location: https://ucf04a04d3c769708b8c00590bbb.dl.dropboxusercontent.com/cd/0/inline/AzSKNeA6_bPhZHQ08XW4hl4SToBtkZaMVS9t0PAXaZRiR98rGud42iWuDNFhE5N4fyl_VXf-U0CNhxWbnmluCirl--An0a7Ti8uMKkotHx-1xVbejtZNjiWILAlL0Jp5Ov8/file# [following]\n",
            "--2020-03-04 09:10:24--  https://ucf04a04d3c769708b8c00590bbb.dl.dropboxusercontent.com/cd/0/inline/AzSKNeA6_bPhZHQ08XW4hl4SToBtkZaMVS9t0PAXaZRiR98rGud42iWuDNFhE5N4fyl_VXf-U0CNhxWbnmluCirl--An0a7Ti8uMKkotHx-1xVbejtZNjiWILAlL0Jp5Ov8/file\n",
            "Resolving ucf04a04d3c769708b8c00590bbb.dl.dropboxusercontent.com (ucf04a04d3c769708b8c00590bbb.dl.dropboxusercontent.com)... 162.125.8.6, 2620:100:601b:6::a27d:806\n",
            "Connecting to ucf04a04d3c769708b8c00590bbb.dl.dropboxusercontent.com (ucf04a04d3c769708b8c00590bbb.dl.dropboxusercontent.com)|162.125.8.6|:443... connected.\n",
            "HTTP request sent, awaiting response... 302 FOUND\n",
            "Location: /cd/0/inline2/AzTq0EM8jRiUrtcOfA5a3x4sYziTIt_kPzdcWmK0GSIaKowqiXJamAF_al2_8zMrOJk93cGddwLrG3IsO5yq7UOGQj-4VWPIiAwsqH9SK2YytS6gsWE_C30EKXBJmjWptFBAbmPkUcgxYNv5a0ltfwMaNXKbXj9pZklzum6EXs0M8Wv0QPQJzFj_lO2xokhq6VgQmEWurFtRq3zDOVkDf_j0kuTLu2OFaYjhROAr-s2aylcdceHl6XcrK19diB8Er6jAlBMTkqiqjjIqzI0gAUFrT6o_PhwfDvOfhHXiOucxr3zHMU8e_YfDhrDY53oo9WSXfWswSl_oczheL2byaU-VYQZerT6Ahz7IF3xHU00qxw/file [following]\n",
            "--2020-03-04 09:10:25--  https://ucf04a04d3c769708b8c00590bbb.dl.dropboxusercontent.com/cd/0/inline2/AzTq0EM8jRiUrtcOfA5a3x4sYziTIt_kPzdcWmK0GSIaKowqiXJamAF_al2_8zMrOJk93cGddwLrG3IsO5yq7UOGQj-4VWPIiAwsqH9SK2YytS6gsWE_C30EKXBJmjWptFBAbmPkUcgxYNv5a0ltfwMaNXKbXj9pZklzum6EXs0M8Wv0QPQJzFj_lO2xokhq6VgQmEWurFtRq3zDOVkDf_j0kuTLu2OFaYjhROAr-s2aylcdceHl6XcrK19diB8Er6jAlBMTkqiqjjIqzI0gAUFrT6o_PhwfDvOfhHXiOucxr3zHMU8e_YfDhrDY53oo9WSXfWswSl_oczheL2byaU-VYQZerT6Ahz7IF3xHU00qxw/file\n",
            "Reusing existing connection to ucf04a04d3c769708b8c00590bbb.dl.dropboxusercontent.com:443.\n",
            "HTTP request sent, awaiting response... 200 OK\n",
            "Length: 59207814 (56M) [application/octet-stream]\n",
            "Saving to: ‘dataset_test_gt.pickle’\n",
            "\n",
            "dataset_test_gt.pic 100%[===================>]  56.46M  61.0MB/s    in 0.9s    \n",
            "\n",
            "2020-03-04 09:10:26 (61.0 MB/s) - ‘dataset_test_gt.pickle’ saved [59207814/59207814]\n",
            "\n",
            "--2020-03-04 09:10:26--  https://www.dropbox.com/s/hsqealoayed1grp/dataset_train_gt.pickle\n",
            "Resolving www.dropbox.com (www.dropbox.com)... 162.125.8.1, 2620:100:601b:1::a27d:801\n",
            "Connecting to www.dropbox.com (www.dropbox.com)|162.125.8.1|:443... connected.\n",
            "HTTP request sent, awaiting response... 301 Moved Permanently\n",
            "Location: /s/raw/hsqealoayed1grp/dataset_train_gt.pickle [following]\n",
            "--2020-03-04 09:10:27--  https://www.dropbox.com/s/raw/hsqealoayed1grp/dataset_train_gt.pickle\n",
            "Reusing existing connection to www.dropbox.com:443.\n",
            "HTTP request sent, awaiting response... 302 Found\n",
            "Location: https://ucac086359242703b0068e19bcb4.dl.dropboxusercontent.com/cd/0/inline/AzRrCba8aiKyGODK1G3_lqdF9MAocKvldtnu5pDXLm76pnNO87zO8emKoz-GFYzP_vgaMWT8cGNxbzJCAJ1lGAB7J07F0nR4IBoPp7VqNp0wLSubN0Hb2Bm1i_hjMBoBbqs/file# [following]\n",
            "--2020-03-04 09:10:27--  https://ucac086359242703b0068e19bcb4.dl.dropboxusercontent.com/cd/0/inline/AzRrCba8aiKyGODK1G3_lqdF9MAocKvldtnu5pDXLm76pnNO87zO8emKoz-GFYzP_vgaMWT8cGNxbzJCAJ1lGAB7J07F0nR4IBoPp7VqNp0wLSubN0Hb2Bm1i_hjMBoBbqs/file\n",
            "Resolving ucac086359242703b0068e19bcb4.dl.dropboxusercontent.com (ucac086359242703b0068e19bcb4.dl.dropboxusercontent.com)... 162.125.8.6, 2620:100:601b:6::a27d:806\n",
            "Connecting to ucac086359242703b0068e19bcb4.dl.dropboxusercontent.com (ucac086359242703b0068e19bcb4.dl.dropboxusercontent.com)|162.125.8.6|:443... connected.\n",
            "HTTP request sent, awaiting response... 302 FOUND\n",
            "Location: /cd/0/inline2/AzQcOFb0UNuUppRPzQ8Ue4j12bhXBYXwPGzfCcNKhs687qxrqljsjRTg3UVkaYUnhMmy0u-12ExTt0Yuh7PQMcQhFpNfQSDW7FxMroSPcZ9dhJ5baK2YWyYM8ivi5k9eA9gPpSUQL8q1k5vu5v-suX5rQXJZ7mt-_tMMHXWoSfKHf3oHjHI2YGDBDl9VNw0cPPrqTyOUKcUFaKz3_pl6mr6ybVPdjSB7vwJr6dJPq1XBxG9oFo3ViZcaKooGvKSWSTc7lv1vl_UEyhKxLpzVrGU7R9FgdhoPyj6yQu1uY1PDx2aa2suCO0TUfhM_FWSHy4hWOIUnBxK6I6OeYzxbZ5YrAMco3OGjVDrm65c-mBU4Vg/file [following]\n",
            "--2020-03-04 09:10:27--  https://ucac086359242703b0068e19bcb4.dl.dropboxusercontent.com/cd/0/inline2/AzQcOFb0UNuUppRPzQ8Ue4j12bhXBYXwPGzfCcNKhs687qxrqljsjRTg3UVkaYUnhMmy0u-12ExTt0Yuh7PQMcQhFpNfQSDW7FxMroSPcZ9dhJ5baK2YWyYM8ivi5k9eA9gPpSUQL8q1k5vu5v-suX5rQXJZ7mt-_tMMHXWoSfKHf3oHjHI2YGDBDl9VNw0cPPrqTyOUKcUFaKz3_pl6mr6ybVPdjSB7vwJr6dJPq1XBxG9oFo3ViZcaKooGvKSWSTc7lv1vl_UEyhKxLpzVrGU7R9FgdhoPyj6yQu1uY1PDx2aa2suCO0TUfhM_FWSHy4hWOIUnBxK6I6OeYzxbZ5YrAMco3OGjVDrm65c-mBU4Vg/file\n",
            "Reusing existing connection to ucac086359242703b0068e19bcb4.dl.dropboxusercontent.com:443.\n",
            "HTTP request sent, awaiting response... 200 OK\n",
            "Length: 169921576 (162M) [application/octet-stream]\n",
            "Saving to: ‘dataset_train_gt.pickle’\n",
            "\n",
            "dataset_train_gt.pi 100%[===================>] 162.05M  50.1MB/s    in 3.2s    \n",
            "\n",
            "2020-03-04 09:10:31 (50.1 MB/s) - ‘dataset_train_gt.pickle’ saved [169921576/169921576]\n",
            "\n"
          ],
          "name": "stdout"
        }
      ]
    },
    {
      "cell_type": "code",
      "metadata": {
        "id": "y1gkru1HEYH-",
        "colab_type": "code",
        "outputId": "cd0b9804-83ea-4cc2-8eb2-7d608d705be9",
        "colab": {
          "base_uri": "https://localhost:8080/",
          "height": 35
        }
      },
      "source": [
        "import numpy as np\n",
        "import torch\n",
        "\n",
        "import torch.nn as nn\n",
        "import torch.optim as optim\n",
        "import os\n",
        "import sys\n",
        "from tqdm import tqdm\n",
        "from time import time\n",
        "from data_loader import PoseDataset\n",
        "from common.visualizer import show_pred_pose\n",
        "import easydict\n",
        "\n",
        "torch.manual_seed(0)"
      ],
      "execution_count": 0,
      "outputs": [
        {
          "output_type": "execute_result",
          "data": {
            "text/plain": [
              "<torch._C.Generator at 0x7f1298f66eb0>"
            ]
          },
          "metadata": {
            "tags": []
          },
          "execution_count": 3
        }
      ]
    },
    {
      "cell_type": "markdown",
      "metadata": {
        "id": "l5JJwf_WIw3Q",
        "colab_type": "text"
      },
      "source": [
        "<font color=red>In following section, the deep learning model performimng 2D to 3D lifting is described. The image below in the Overview section shows the architecture of a residual block.</font>"
      ]
    },
    {
      "cell_type": "code",
      "metadata": {
        "id": "fDJFeilQ4Baz",
        "colab_type": "code",
        "colab": {}
      },
      "source": [
        "class PoseModel(nn.Module):\n",
        "    def __init__(self, num_joints_in, in_features, num_joints_out,\n",
        "                 dropout=0.25, channels=1024):\n",
        "        \"\"\"\n",
        "        Initialize this model.\n",
        "\n",
        "        Arguments:\n",
        "        num_joints_in -- number of input joints (e.g. 17 for Human3.6M)\n",
        "        in_features -- number of input features for each joint (typically 2 for 2D input)\n",
        "        num_joints_out -- number of output joints (can be different than input)\n",
        "        dropout -- dropout probability\n",
        "        channels -- no nodes in intermediate layer\n",
        "        \"\"\"\n",
        "        super().__init__()\n",
        "\n",
        "        self.num_joints_in = num_joints_in\n",
        "        self.in_features = in_features\n",
        "        self.num_joints_out = num_joints_out\n",
        "\n",
        "        self.drop = nn.Dropout(dropout)\n",
        "        self.relu = nn.ReLU(inplace=True)\n",
        "\n",
        "        self.expand_layer = nn.Linear(num_joints_in * in_features, channels, bias=False)\n",
        "        self.expand_bn = nn.BatchNorm1d(channels, momentum=0.1)\n",
        "        self.shrink = nn.Linear(channels, num_joints_out * 3)\n",
        "\n",
        "        # First block\n",
        "        self.b1_l1 = nn.Linear(channels, channels, bias=False)\n",
        "        self.b1_bn1 = nn.BatchNorm1d(channels, momentum=0.1)\n",
        "        self.b1_l2 = nn.Linear(channels, channels, bias=False)\n",
        "        self.b1_bn2 = nn.BatchNorm1d(channels, momentum=0.1)\n",
        "        \n",
        "        # Second block\n",
        "        self.b2_l1 = nn.Linear(channels, channels, bias=False)\n",
        "        self.b2_bn1 = nn.BatchNorm1d(channels, momentum=0.1)\n",
        "        self.b2_l2 = nn.Linear(channels, channels, bias=False)\n",
        "        self.b2_bn2 = nn.BatchNorm1d(channels, momentum=0.1)\n",
        "\n",
        "    def forward(self, x):\n",
        "\n",
        "        assert len(x.shape) == 2\n",
        "        assert x.shape[-1] == self.num_joints_in * self.in_features\n",
        "\n",
        "        # Expand from 2D skeleton to 'channels' features \n",
        "        x = self.drop(self.relu(self.expand_bn(self.expand_layer(x)))) # FILL HERE pass through expand linear and BN layer\n",
        "\n",
        "        # First block\n",
        "        res_1 = x\n",
        "        x = self.drop(self.relu(self.b1_bn1(self.b1_l1(x))))\n",
        "        x = self.drop(self.relu(self.b1_bn2(self.b1_l2(x))))\n",
        "        x = x + res_1\n",
        "\n",
        "        # Second block\n",
        "        res_2 = x\n",
        "        x = self.drop(self.relu(self.b2_bn1(self.b2_l1(x))))\n",
        "        x = self.drop(self.relu(self.b2_bn2(self.b2_l2(x))))\n",
        "        x = x + res_2\n",
        "        \n",
        "        x = self.shrink(x) # FILL HERE pass through shrink layer\n",
        "        return x\n"
      ],
      "execution_count": 0,
      "outputs": []
    },
    {
      "cell_type": "markdown",
      "metadata": {
        "id": "VA9jhhC9Ns2h",
        "colab_type": "text"
      },
      "source": [
        "<font color=red>The following function is used to calculate both MSE loss for pose regression as well as Mean Per-Joint Position Error(MPJPE) to determine pose prediction accuracy. For MSE, both target and predicted should be of (batch size, num joints * 3). For MPJPE, both target and predicted should be (batch size, num joints, 3).</font>"
      ]
    },
    {
      "cell_type": "code",
      "metadata": {
        "id": "iKWZBVptIhQK",
        "colab_type": "code",
        "colab": {}
      },
      "source": [
        "def mpjpe(predicted, target):\n",
        "    \"\"\"\n",
        "    Mean per-joint position error (i.e. mean Euclidean distance),\n",
        "    often referred to as \"Protocol #1\" in many papers.\n",
        "    \"\"\"\n",
        "    assert predicted.shape == target.shape\n",
        "    return torch.mean(torch.norm(predicted - target, dim=len(target.shape)-1))\n"
      ],
      "execution_count": 0,
      "outputs": []
    },
    {
      "cell_type": "markdown",
      "metadata": {
        "id": "z459DGjjOuNu",
        "colab_type": "text"
      },
      "source": [
        "<font color=red>The following function describes the training or test loop for one epoch. It can accept 'train' oe 'test' modes. The boolean parameter 'viz_pred' to display predicted 3D poses.</font>"
      ]
    },
    {
      "cell_type": "code",
      "metadata": {
        "colab_type": "code",
        "id": "Xyh2tdTEIcKc",
        "colab": {}
      },
      "source": [
        "def run_epoch(epoch, args, model_pose, data_loader, optimiser, mode='train', viz_pred=False):\n",
        "\n",
        "    if mode == 'train':\n",
        "        model_pose.train()\n",
        "    else:\n",
        "        model_pose.eval()\n",
        "\n",
        "    start_time = time()\n",
        "    epoch_loss_3d = 0\n",
        "    mpjpe_epoch = 0.\n",
        "    N = 0\n",
        "\n",
        "    for batch_idx, (pose_2d, pose_3d_rel, _) in enumerate(tqdm(data_loader, ascii=True)):\n",
        "\n",
        "        pose_2d = pose_2d.float()\n",
        "        pose_3d_rel = pose_3d_rel.float()\n",
        "\n",
        "        if torch.cuda.is_available():\n",
        "            pose_2d = pose_2d.cuda()\n",
        "            pose_3d_rel = pose_3d_rel.cuda()\n",
        "\n",
        "        optimiser.zero_grad()\n",
        "\n",
        "        # Predict 3D poses\n",
        "        predicted_3d_pos = model_pose(pose_2d)\n",
        "\n",
        "        if viz_pred is True:\n",
        "            pred_3d_viz = np.zeros((1, 17, 3), dtype='float32')\n",
        "            pred_3d_viz[:, 1:, :] = predicted_3d_pos[0].detach().cpu().view(16, 3).numpy() * 1000\n",
        "            pose_2d_viz = pose_2d[0].cpu().view(1, 17, 2).numpy()\n",
        "\n",
        "            show_pred_pose(pose_2d_viz, pred_3d_viz, n_joints=17)\n",
        "            from IPython.core.debugger import set_trace\n",
        "            set_trace()\n",
        "\n",
        "        # MSE loss between 51 values of predicted_3d_pos and pose_3d_rel\n",
        "        loss_3d_pos =  mpjpe(predicted_3d_pos, pose_3d_rel)\n",
        "        epoch_loss_3d += pose_3d_rel.shape[0] * loss_3d_pos.item()\n",
        "\n",
        "        mpjpe_batch = mpjpe(predicted_3d_pos.detach().view(-1, 16, 3), pose_3d_rel.view(-1, 16, 3))\n",
        "        mpjpe_epoch = mpjpe_epoch + pose_3d_rel.shape[0] * mpjpe_batch\n",
        "\n",
        "        N += pose_3d_rel.shape[0]\n",
        "\n",
        "        loss_total = loss_3d_pos\n",
        "\n",
        "        if mode == 'train':\n",
        "            loss_total.backward()\n",
        "            optimiser.step()\n",
        "\n",
        "    mpjpe_epoch = mpjpe_epoch / N\n",
        "    epoch_loss_3d = epoch_loss_3d / N\n",
        "    elapsed = (time() - start_time) / 60\n",
        "\n",
        "    print('{}: [{:d}] time {:.2f} 3d_loss {:.3f} Mpjpe {:2f}'.format(\n",
        "        mode, epoch, elapsed, epoch_loss_3d, mpjpe_epoch * 1000))\n",
        "\n",
        "    result = dict()\n",
        "    result['mpjpe'] = mpjpe_epoch * 1000\n",
        "\n",
        "    return result \n",
        "\n"
      ],
      "execution_count": 0,
      "outputs": []
    },
    {
      "cell_type": "markdown",
      "metadata": {
        "id": "iZvAYtW2NnA2",
        "colab_type": "text"
      },
      "source": [
        "<font color=red>The following code is the starting point of execution. We start with creating data loader for train and test splits.</font>"
      ]
    },
    {
      "cell_type": "code",
      "metadata": {
        "id": "FbmwJFfjNy14",
        "colab_type": "code",
        "outputId": "08372281-7914-4fc5-e0c7-df4b3eb279aa",
        "colab": {
          "base_uri": "https://localhost:8080/",
          "height": 89
        }
      },
      "source": [
        "args = easydict.EasyDict({'batch_size': 64,\n",
        "        'epochs': 5,\n",
        "        'learning_rate': 0.001,})\n",
        "# print(args)\n",
        "\n",
        "tr_dataset = PoseDataset(args, split='train')\n",
        "te_dataset = PoseDataset(args, split='test')\n",
        "\n",
        "train_loader = torch.utils.data.DataLoader(\n",
        "    tr_dataset,\n",
        "    batch_size=args.batch_size,\n",
        "    shuffle=True,\n",
        "    num_workers=1,\n",
        "    pin_memory=True,\n",
        "    drop_last=True\n",
        "    # worker_init_fn=worker_init_fn\n",
        ")\n",
        "\n",
        "test_loader = torch.utils.data.DataLoader(\n",
        "    te_dataset,\n",
        "    batch_size=args.batch_size,\n",
        "    shuffle=False,\n",
        "    num_workers=1,\n",
        "    # worker_init_fn=worker_init_fn\n",
        ")\n",
        "\n",
        "num_joints_in = tr_dataset.poses_2d.shape[1]  # 17 in our case  \n",
        "in_features = tr_dataset.poses_2d.shape[2]  # 2 in our case x and y co-ordinates\n",
        "num_joints_out = tr_dataset.poses_3d.shape[1] - 1  # 17-1=16 in our case ignoring the root as prediction is root relative. \n",
        "# n_blocks = 2"
      ],
      "execution_count": 0,
      "outputs": [
        {
          "output_type": "stream",
          "text": [
            "Creating train data loader\n",
            "\n",
            "Creating test data loader\n",
            "\n"
          ],
          "name": "stdout"
        }
      ]
    },
    {
      "cell_type": "markdown",
      "metadata": {
        "id": "pXdDilnJOD3t",
        "colab_type": "text"
      },
      "source": [
        "<font color=red>Next we create out 3D pose prediction model, define the optimiser and learning rate schedular.</font>"
      ]
    },
    {
      "cell_type": "code",
      "metadata": {
        "id": "YxKafEUlOYu0",
        "colab_type": "code",
        "colab": {}
      },
      "source": [
        "model_pose = PoseModel(num_joints_in, in_features, num_joints_out, \n",
        "                       dropout=0.25, channels=1024)\n",
        "\n",
        "if torch.cuda.is_available():\n",
        "    model_pose = model_pose.cuda()\n",
        "\n",
        "optimizer = optim.Adam(model_pose.parameters(), lr=args.learning_rate, amsgrad=True)\n",
        "schedular = torch.optim.lr_scheduler.ExponentialLR(optimizer, gamma=0.95)"
      ],
      "execution_count": 0,
      "outputs": []
    },
    {
      "cell_type": "markdown",
      "metadata": {
        "id": "8qZe8La7OevG",
        "colab_type": "text"
      },
      "source": [
        "<font color=red>Finally, we start our training and testing for 10 epochs.</font>"
      ]
    },
    {
      "cell_type": "code",
      "metadata": {
        "id": "eqnkX5X9D9AA",
        "colab_type": "code",
        "outputId": "734fc16b-d602-47b3-bf7e-cd866fbb6830",
        "colab": {
          "base_uri": "https://localhost:8080/",
          "height": 305
        }
      },
      "source": [
        "epoch = 1\n",
        "min_mpjpe = 999.0\n",
        "while epoch < args.epochs:\n",
        "    _ = run_epoch(epoch, args, model_pose, train_loader, optimizer, \n",
        "                  mode='train', viz_pred=False)\n",
        "    \n",
        "    result_test = run_epoch(epoch, args, model_pose, train_loader, optimizer, \n",
        "                            mode='test', viz_pred=False)\n",
        "\n",
        "    if result_test['mpjpe'] < min_mpjpe:\n",
        "        min_mpjpe = result_test['mpjpe']\n",
        "\n",
        "        torch.save(model_pose.state_dict(), 'checkpoint/model_best.pth')\n",
        "\n",
        "    epoch = epoch + 1\n",
        "\n",
        "    schedular.step()\n",
        "\n"
      ],
      "execution_count": 0,
      "outputs": [
        {
          "output_type": "stream",
          "text": [
            "100%|##########| 4877/4877 [00:38<00:00, 125.23it/s]\n",
            "  0%|          | 0/4877 [00:00<?, ?it/s]"
          ],
          "name": "stderr"
        },
        {
          "output_type": "stream",
          "text": [
            "train: [1] time 0.65 3d_loss 0.599 Mpjpe 131.952850\n"
          ],
          "name": "stdout"
        },
        {
          "output_type": "stream",
          "text": [
            "100%|##########| 4877/4877 [00:20<00:00, 239.17it/s]\n",
            "  0%|          | 0/4877 [00:00<?, ?it/s]"
          ],
          "name": "stderr"
        },
        {
          "output_type": "stream",
          "text": [
            "test: [1] time 0.34 3d_loss 0.314 Mpjpe 64.997078\n"
          ],
          "name": "stdout"
        },
        {
          "output_type": "stream",
          "text": [
            "100%|##########| 4877/4877 [00:38<00:00, 128.23it/s]\n",
            "  0%|          | 0/4877 [00:00<?, ?it/s]"
          ],
          "name": "stderr"
        },
        {
          "output_type": "stream",
          "text": [
            "train: [2] time 0.63 3d_loss 0.350 Mpjpe 74.245750\n"
          ],
          "name": "stdout"
        },
        {
          "output_type": "stream",
          "text": [
            "100%|##########| 4877/4877 [00:20<00:00, 210.43it/s]\n",
            "  0%|          | 0/4877 [00:00<?, ?it/s]"
          ],
          "name": "stderr"
        },
        {
          "output_type": "stream",
          "text": [
            "test: [2] time 0.34 3d_loss 0.247 Mpjpe 50.947876\n"
          ],
          "name": "stdout"
        },
        {
          "output_type": "stream",
          "text": [
            "100%|##########| 4877/4877 [00:38<00:00, 126.11it/s]\n",
            "  0%|          | 0/4877 [00:00<?, ?it/s]"
          ],
          "name": "stderr"
        },
        {
          "output_type": "stream",
          "text": [
            "train: [3] time 0.64 3d_loss 0.315 Mpjpe 66.411659\n"
          ],
          "name": "stdout"
        },
        {
          "output_type": "stream",
          "text": [
            "100%|##########| 4877/4877 [00:20<00:00, 239.00it/s]\n",
            "  0%|          | 0/4877 [00:00<?, ?it/s]"
          ],
          "name": "stderr"
        },
        {
          "output_type": "stream",
          "text": [
            "test: [3] time 0.34 3d_loss 0.230 Mpjpe 47.796196\n"
          ],
          "name": "stdout"
        },
        {
          "output_type": "stream",
          "text": [
            "100%|##########| 4877/4877 [00:38<00:00, 125.23it/s]\n",
            "  0%|          | 0/4877 [00:00<?, ?it/s]"
          ],
          "name": "stderr"
        },
        {
          "output_type": "stream",
          "text": [
            "train: [4] time 0.65 3d_loss 0.296 Mpjpe 62.356483\n"
          ],
          "name": "stdout"
        },
        {
          "output_type": "stream",
          "text": [
            "100%|##########| 4877/4877 [00:20<00:00, 239.85it/s]"
          ],
          "name": "stderr"
        },
        {
          "output_type": "stream",
          "text": [
            "test: [4] time 0.34 3d_loss 0.213 Mpjpe 43.838509\n"
          ],
          "name": "stdout"
        },
        {
          "output_type": "stream",
          "text": [
            "\n"
          ],
          "name": "stderr"
        }
      ]
    },
    {
      "cell_type": "markdown",
      "metadata": {
        "id": "477Gf-ESOuoe",
        "colab_type": "text"
      },
      "source": [
        "<font color=red>After the training is complete we visualize the predicted poses given a 2D input.</font>"
      ]
    },
    {
      "cell_type": "code",
      "metadata": {
        "id": "Y0fL2M1_OpG-",
        "colab_type": "code",
        "outputId": "88ae29ab-a6ff-4a30-d08c-ebf3fcb52b7a",
        "colab": {
          "base_uri": "https://localhost:8080/",
          "height": 476
        }
      },
      "source": [
        "# Visualizing Test predictions\n",
        " run_epoch(1, args, model_pose, test_loader, optimizer, mode='test', viz_pred=True) # The first parameter is set to a dummy value 1."
      ],
      "execution_count": 0,
      "outputs": [
        {
          "output_type": "stream",
          "text": [
            "\r  0%|          | 0/1700 [00:00<?, ?it/s]"
          ],
          "name": "stderr"
        },
        {
          "output_type": "display_data",
          "data": {
            "image/png": "[encoded data removed]",
            "text/plain": [
              "<Figure size 432x288 with 2 Axes>"
            ]
          },
          "metadata": {
            "tags": []
          }
        },
        {
          "output_type": "stream",
          "text": [
            "> \u001b[0;32m<ipython-input-6-1cc7e4acba36>\u001b[0m(37)\u001b[0;36mrun_epoch\u001b[0;34m()\u001b[0m\n",
            "\u001b[0;32m     35 \u001b[0;31m\u001b[0;34m\u001b[0m\u001b[0m\n",
            "\u001b[0m\u001b[0;32m     36 \u001b[0;31m        \u001b[0;31m# MSE loss between 51 values of predicted_3d_pos and pose_3d_rel\u001b[0m\u001b[0;34m\u001b[0m\u001b[0;34m\u001b[0m\u001b[0;34m\u001b[0m\u001b[0m\n",
            "\u001b[0m\u001b[0;32m---> 37 \u001b[0;31m        \u001b[0mloss_3d_pos\u001b[0m \u001b[0;34m=\u001b[0m  \u001b[0mmpjpe\u001b[0m\u001b[0;34m(\u001b[0m\u001b[0mpredicted_3d_pos\u001b[0m\u001b[0;34m,\u001b[0m \u001b[0mpose_3d_rel\u001b[0m\u001b[0;34m)\u001b[0m\u001b[0;34m\u001b[0m\u001b[0;34m\u001b[0m\u001b[0m\n",
            "\u001b[0m\u001b[0;32m     38 \u001b[0;31m        \u001b[0mepoch_loss_3d\u001b[0m \u001b[0;34m+=\u001b[0m \u001b[0mpose_3d_rel\u001b[0m\u001b[0;34m.\u001b[0m\u001b[0mshape\u001b[0m\u001b[0;34m[\u001b[0m\u001b[0;36m0\u001b[0m\u001b[0;34m]\u001b[0m \u001b[0;34m*\u001b[0m \u001b[0mloss_3d_pos\u001b[0m\u001b[0;34m.\u001b[0m\u001b[0mitem\u001b[0m\u001b[0;34m(\u001b[0m\u001b[0;34m)\u001b[0m\u001b[0;34m\u001b[0m\u001b[0;34m\u001b[0m\u001b[0m\n",
            "\u001b[0m\u001b[0;32m     39 \u001b[0;31m\u001b[0;34m\u001b[0m\u001b[0m\n",
            "\u001b[0m\n"
          ],
          "name": "stdout"
        }
      ]
    }
  ]
}